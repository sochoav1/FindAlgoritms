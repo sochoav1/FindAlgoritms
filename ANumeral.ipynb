{
 "cells": [
  {
   "cell_type": "code",
   "execution_count": null,
   "metadata": {},
   "outputs": [],
   "source": [
    "import numpy as np\n",
    "\n",
    "# Crear una grid 2D 10x10\n",
    "grid = np.zeros((10, 10))\n",
    "\n",
    "# Añadir algunos obstáculos\n",
    "grid[1:3, 2:4] = 1\n",
    "grid[6:8, 7:9] = 1\n"
   ]
  },
  {
   "cell_type": "code",
   "execution_count": 2,
   "metadata": {},
   "outputs": [
    {
     "name": "stdout",
     "output_type": "stream",
     "text": [
      "[(0, 0), (0, 1), (0, 2), (0, 3), (0, 4), (0, 5), (0, 6), (0, 7), (0, 8), (0, 9), (1, 9), (2, 9), (3, 9), (4, 9), (5, 9), (6, 9), (7, 9), (8, 9), (9, 9)]\n"
     ]
    }
   ],
   "source": [
    "import heapq\n",
    "\n",
    "def heuristic(a, b):\n",
    "    return abs(a[0] - b[0]) + abs(a[1] - b[1])\n",
    "\n",
    "def astar(grid, start, goal):\n",
    "    open_set = []\n",
    "    heapq.heappush(open_set, (0 + heuristic(start, goal), 0, start))\n",
    "    came_from = {start: None}\n",
    "    cost_so_far = {start: 0}\n",
    "    \n",
    "    while open_set:\n",
    "        _, _, current = heapq.heappop(open_set)\n",
    "        \n",
    "        if current == goal:\n",
    "            path = []\n",
    "            while current:\n",
    "                path.append(current)\n",
    "                current = came_from[current]\n",
    "            path.reverse()\n",
    "            return path\n",
    "        \n",
    "        for d in [(0, 1), (1, 0), (0, -1), (-1, 0)]:\n",
    "            neighbor = (current[0] + d[0], current[1] + d[1])\n",
    "            if (0 <= neighbor[0] < grid.shape[0] and\n",
    "                0 <= neighbor[1] < grid.shape[1] and\n",
    "                grid[neighbor[0], neighbor[1]] == 0):\n",
    "                \n",
    "                new_cost = cost_so_far[current] + 1\n",
    "                \n",
    "                if neighbor not in cost_so_far or new_cost < cost_so_far[neighbor]:\n",
    "                    cost_so_far[neighbor] = new_cost\n",
    "                    priority = new_cost + heuristic(neighbor, goal)\n",
    "                    heapq.heappush(open_set, (priority, new_cost, neighbor))\n",
    "                    came_from[neighbor] = current\n",
    "                    \n",
    "    return None  # No se encontró un camino\n",
    "\n",
    "# Definir los puntos de inicio y meta\n",
    "start = (0, 0)\n",
    "goal = (9, 9)\n",
    "\n",
    "# Encontrar el camino\n",
    "path = astar(grid, start, goal)\n",
    "print(path)\n"
   ]
  },
  {
   "cell_type": "code",
   "execution_count": 3,
   "metadata": {},
   "outputs": [
    {
     "data": {
      "image/png": "[encoded data removed]",
      "text/plain": [
       "<Figure size 640x480 with 1 Axes>"
      ]
     },
     "metadata": {},
     "output_type": "display_data"
    }
   ],
   "source": [
    "import matplotlib.pyplot as plt\n",
    "\n",
    "def visualize_path(grid, path):\n",
    "    fig, ax = plt.subplots()\n",
    "    \n",
    "    # Dibujar la grilla\n",
    "    ax.imshow(grid, cmap='Purples')\n",
    "    \n",
    "    # Dibujar el camino\n",
    "    if path is not None:\n",
    "        path_y, path_x = zip(*path)\n",
    "        ax.plot(path_x, path_y, c='red')\n",
    "    \n",
    "    plt.show()\n",
    "\n",
    "# Visualizar el resultado\n",
    "visualize_path(grid, path)\n"
   ]
  }
 ],
 "metadata": {
  "kernelspec": {
   "display_name": "Python 3",
   "language": "python",
   "name": "python3"
  },
  "language_info": {
   "codemirror_mode": {
    "name": "ipython",
    "version": 3
   },
   "file_extension": ".py",
   "mimetype": "text/x-python",
   "name": "python",
   "nbconvert_exporter": "python",
   "pygments_lexer": "ipython3",
   "version": "3.11.4"
  },
  "orig_nbformat": 4
 },
 "nbformat": 4,
 "nbformat_minor": 2
}
